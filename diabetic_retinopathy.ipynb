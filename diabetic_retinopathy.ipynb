{
  "nbformat": 4,
  "nbformat_minor": 0,
  "metadata": {
    "colab": {
      "name": "diabetic.retinopathy.ipynb",
      "version": "0.3.2",
      "provenance": [],
      "collapsed_sections": []
    },
    "kernelspec": {
      "name": "python3",
      "display_name": "Python 3"
    }
  },
  "cells": [
    {
      "metadata": {
        "id": "kpKMJusVkw_y",
        "colab_type": "code",
        "colab": {}
      },
      "cell_type": "code",
      "source": [
        "!rm -rf diaretdb0_v_1_1/"
      ],
      "execution_count": 0,
      "outputs": []
    },
    {
      "metadata": {
        "id": "vRsBxF8cYR2I",
        "colab_type": "code",
        "colab": {}
      },
      "cell_type": "code",
      "source": [
        "import glob\n",
        "import zipfile\n",
        "import shutil\n",
        "from tqdm import tqdm\n",
        "import os\n",
        "\n",
        "import cv2\n",
        "import matplotlib.pyplot as plt\n",
        "import numpy as np\n",
        "\n",
        "from keras.models import Sequential\n",
        "from keras.layers import Dense, Conv2D, MaxPooling2D, Dropout, Flatten"
      ],
      "execution_count": 0,
      "outputs": []
    },
    {
      "metadata": {
        "id": "6LLXnG8sjrsS",
        "colab_type": "code",
        "colab": {
          "base_uri": "https://localhost:8080/",
          "height": 207
        },
        "outputId": "05242535-613d-4232-cf00-7d68b0c837b6"
      },
      "cell_type": "code",
      "source": [
        "if not os.path.exists('diaretdb0_v_1_1.zip'):\n",
        "  !wget http://www.it.lut.fi/project/imageret/diaretdb0/diaretdb0_v_1_1.zip\n",
        "  \n",
        "zip_ref = zipfile.ZipFile('diaretdb0_v_1_1.zip', 'r')\n",
        "zip_ref.extractall('.')\n",
        "zip_ref.close()"
      ],
      "execution_count": 62,
      "outputs": [
        {
          "output_type": "stream",
          "text": [
            "--2019-03-09 05:20:22--  http://www.it.lut.fi/project/imageret/diaretdb0/diaretdb0_v_1_1.zip\n",
            "Resolving www.it.lut.fi (www.it.lut.fi)... 157.24.20.41\n",
            "Connecting to www.it.lut.fi (www.it.lut.fi)|157.24.20.41|:80... connected.\n",
            "HTTP request sent, awaiting response... 200 OK\n",
            "Length: 269834063 (257M) [application/zip]\n",
            "Saving to: ‘diaretdb0_v_1_1.zip’\n",
            "\n",
            "diaretdb0_v_1_1.zip 100%[===================>] 257.33M  23.5MB/s    in 12s     \n",
            "\n",
            "2019-03-09 05:20:35 (21.5 MB/s) - ‘diaretdb0_v_1_1.zip’ saved [269834063/269834063]\n",
            "\n"
          ],
          "name": "stdout"
        }
      ]
    },
    {
      "metadata": {
        "id": "PmnkOUZcmYuT",
        "colab_type": "code",
        "colab": {}
      },
      "cell_type": "code",
      "source": [
        "mask_dir = './diaretdb0_v_1_1/resources/images/diaretdb0_binary_masks'\n",
        "fundus_dir = './diaretdb0_v_1_1/resources/images/diaretdb0_fundus_images'"
      ],
      "execution_count": 0,
      "outputs": []
    },
    {
      "metadata": {
        "id": "jv3B0NN5afzL",
        "colab_type": "code",
        "colab": {}
      },
      "cell_type": "code",
      "source": [
        "def color_normalize(image):\n",
        "  \n",
        "  img = cv2.imread(image)\n",
        "  img = cv2.cvtColor(img, cv2.COLOR_BGR2RGB)\n",
        "  \n",
        "  b = img.copy()\n",
        "  # set green and red channels to 0\n",
        "  b[:, :, 1] = 0\n",
        "  b[:, :, 2] = 0\n",
        "\n",
        "  g = img.copy()\n",
        "  # set blue and red channels to 0\n",
        "  g[:, :, 0] = 0\n",
        "  g[:, :, 2] = 0\n",
        "\n",
        "  r = img.copy()\n",
        "  # set blue and green channels to 0\n",
        "  r[:, :, 0] = 0\n",
        "  r[:, :, 1] = 0\n",
        "  \n",
        "  img = (b/b.max() + g/g.max() + r/r.max())\n",
        "  img = cv2.resize(img, (512, 512)) \n",
        "  img = (img * 255).astype(np.uint8)\n",
        "  img = cv2.cvtColor(img, cv2.COLOR_BGR2RGB)\n",
        "  \n",
        "  #\n",
        "  # applying mask to source image - region segmentation\n",
        "  #\n",
        "  mask = cv2.imread('{0}/{1}_valid.png'.format(mask_dir, os.path.splitext(os.path.basename(image))[0]), 0)\n",
        "  mask = cv2.resize(mask, (512, 512)) \n",
        "  \n",
        "  result = cv2.bitwise_and(img, img, mask = mask)\n",
        "  \n",
        "  cv2.imwrite(\"./normalised_images/norm_\"+os.path.basename(image), result)"
      ],
      "execution_count": 0,
      "outputs": []
    },
    {
      "metadata": {
        "id": "_qrwBnEYY1bJ",
        "colab_type": "code",
        "colab": {}
      },
      "cell_type": "code",
      "source": [
        "def build_model():\n",
        "\n",
        "  model = Sequential()\n",
        "\n",
        "  model.add(Conv2D(32, (3, 3), padding='same', activation='relu', input_shape=(512, 512)))\n",
        "  model.add(BatchNormalization())\n",
        "  model.add(MaxPooling2D(pool_size=(2, 2)))\n",
        "\n",
        "  model.add(Conv2D(32, (3, 3), padding='same', activation='relu'))\n",
        "  model.add(BatchNormalization())\n",
        "  model.add(MaxPooling2D(pool_size=(2, 2)))\n",
        "\n",
        "  model.add(Conv2D(64, (3, 3), padding='same', activation='relu'))\n",
        "  model.add(BatchNormalization())\n",
        "  model.add(MaxPooling2D(pool_size=(2, 2)))\n",
        "\n",
        "  model.add(Conv2D(64, (3, 3), padding='same', activation='relu'))\n",
        "  model.add(BatchNormalization())\n",
        "  model.add(MaxPooling2D(pool_size=(2, 2)))\n",
        "\n",
        "  model.add(Conv2D(128, (3, 3), padding='same', activation='relu'))\n",
        "  model.add(BatchNormalization())\n",
        "  model.add(MaxPooling2D(pool_size=(2, 2)))\n",
        "\n",
        "  model.add(Conv2D(128, (3, 3), padding='same', activation='relu'))\n",
        "  model.add(BatchNormalization())\n",
        "  model.add(MaxPooling2D(pool_size=(2, 2)))\n",
        "\n",
        "  model.add(Conv2D(256, (3, 3), padding='same', activation='relu'))\n",
        "  model.add(BatchNormalization())\n",
        "  model.add(MaxPooling2D(pool_size=(2, 2)))\n",
        "\n",
        "  model.add(Conv2D(256, (3, 3), padding='same', activation='relu'))\n",
        "  model.add(BatchNormalization())\n",
        "  model.add(MaxPooling2D(pool_size=(2, 2)))\n",
        "\n",
        "  model.add(Conv2D(512, (3, 3), padding='same', activation='relu'))\n",
        "  model.add(BatchNormalization())\n",
        "  model.add(MaxPooling2D(pool_size=(2, 2)))\n",
        "\n",
        "  model.add(Conv2D(512, (3, 3), padding='same', activation='relu'))\n",
        "  model.add(BatchNormalization())\n",
        "  model.add(MaxPooling2D(pool_size=(2, 2)))\n",
        "  model.add(Dropout(0.50))\n",
        "\n",
        "  model.add(Flatten())\n",
        "  model.add(Dense(1024, activation='relu'))\n",
        "  model.add(Dropout(0.50))\n",
        "\n",
        "  model.add(Dense(1024, activation='relu'))\n",
        "\n",
        "  model.add(Dense(5, activation='softmax'))\n",
        "\n",
        "return model"
      ],
      "execution_count": 0,
      "outputs": []
    },
    {
      "metadata": {
        "id": "7gVIt3VmbEoK",
        "colab_type": "code",
        "outputId": "f06dfe60-d5db-4a60-9537-ad43e612a435",
        "colab": {
          "base_uri": "https://localhost:8080/",
          "height": 69
        }
      },
      "cell_type": "code",
      "source": [
        "if __name__ == \"__main__\":\n",
        "  \n",
        "  #\n",
        "  # get image names\n",
        "  #\n",
        "  images = [i for i in glob.glob(\"{0}/image*.png\".format(fundus_dir))]\n",
        "  normalised = list()\n",
        "  \n",
        "  if not os.path.exists('normalised_images'):\n",
        "    os.makedirs('normalised_images')\n",
        "  else:\n",
        "    shutil.rmtree('normalised_images')\n",
        "    os.makedirs('normalised_images')\n",
        "    \n",
        "  #\n",
        "  # perform color normalisation\n",
        "  #\n",
        "  for image in tqdm(images):\n",
        "    color_normalize(image)\n",
        "    normalised.append(\"./norm_\"+os.path.basename(image)) \n",
        "  \n",
        "  print(\"\\nPre-processing complete...\")"
      ],
      "execution_count": 60,
      "outputs": [
        {
          "output_type": "stream",
          "text": [
            "100%|██████████| 130/130 [00:20<00:00,  6.44it/s]"
          ],
          "name": "stderr"
        },
        {
          "output_type": "stream",
          "text": [
            "\n",
            "Pre-processing complete...\n"
          ],
          "name": "stdout"
        },
        {
          "output_type": "stream",
          "text": [
            "\n"
          ],
          "name": "stderr"
        }
      ]
    },
    {
      "metadata": {
        "id": "MY7wlXyjohU-",
        "colab_type": "code",
        "colab": {}
      },
      "cell_type": "code",
      "source": [
        ""
      ],
      "execution_count": 0,
      "outputs": []
    }
  ]
}